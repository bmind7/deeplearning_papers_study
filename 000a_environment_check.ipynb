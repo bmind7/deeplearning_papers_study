{
 "cells": [
  {
   "cell_type": "code",
   "execution_count": 1,
   "metadata": {},
   "outputs": [
    {
     "name": "stdout",
     "output_type": "stream",
     "text": [
      "__Python VERSION: 3.8.12 (default, Oct 12 2021, 03:01:40) [MSC v.1916 64 bit (AMD64)]\n",
      "__pyTorch VERSION: 1.10.0\n",
      "__CUDA VERSION 11.3\n",
      "__CUDNN VERSION: 8200\n",
      "__Number CUDA Devices: 1\n",
      "__Devices CUDA:\n",
      "  Available devices:  1\n",
      "  Current cuda device:  0\n",
      "_CudaDeviceProperties(name='GeForce GTX 1050 Ti', major=6, minor=1, total_memory=4096MB, multi_processor_count=6)\n"
     ]
    }
   ],
   "source": [
    "from subprocess import call\n",
    "import torch\n",
    "import sys\n",
    "print('__Python VERSION:', sys.version)\n",
    "print('__pyTorch VERSION:', torch.__version__)\n",
    "print('__CUDA VERSION', torch.cuda_version)\n",
    "print('__CUDNN VERSION:', torch.backends.cudnn.version())\n",
    "print('__Number CUDA Devices:', torch.cuda.device_count())\n",
    "print('__Devices CUDA:')\n",
    "gpu_index = torch.cuda.current_device().__str__()\n",
    "print('  Available devices: ', torch.cuda.device_count())\n",
    "print('  Current cuda device: ', torch.cuda.current_device())\n",
    "print(torch.cuda.get_device_properties(f'cuda:{gpu_index}'))\n"
   ]
  }
 ],
 "metadata": {
  "interpreter": {
   "hash": "7cb0abe6a156ed333ad4fd07d9af989e8f53906384bd66e80c5bbb553a4eaba7"
  },
  "kernelspec": {
   "display_name": "Python 3.8.12 64-bit ('torch': conda)",
   "language": "python",
   "name": "python3"
  },
  "language_info": {
   "codemirror_mode": {
    "name": "ipython",
    "version": 3
   },
   "file_extension": ".py",
   "mimetype": "text/x-python",
   "name": "python",
   "nbconvert_exporter": "python",
   "pygments_lexer": "ipython3",
   "version": "3.8.12"
  },
  "orig_nbformat": 4
 },
 "nbformat": 4,
 "nbformat_minor": 2
}
