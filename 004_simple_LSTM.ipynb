{
 "cells": [
  {
   "cell_type": "markdown",
   "metadata": {},
   "source": [
    "Predicting stock volume with LSTM"
   ]
  },
  {
   "cell_type": "code",
   "execution_count": 1,
   "metadata": {},
   "outputs": [],
   "source": [
    "import urllib.request\n",
    "import os\n",
    "\n",
    "import numpy as np\n",
    "import pandas as pd\n",
    "import matplotlib.pyplot as plt\n",
    "from sklearn.preprocessing import StandardScaler, MinMaxScaler\n",
    "\n",
    "import torch\n",
    "import torch.nn as nn\n",
    "from torch.autograd import Variable"
   ]
  },
  {
   "cell_type": "markdown",
   "metadata": {},
   "source": [
    "Download Starbucks training data from yahoo stocks"
   ]
  },
  {
   "cell_type": "code",
   "execution_count": 2,
   "metadata": {},
   "outputs": [],
   "source": [
    "if not os.path.isfile('./datasets/STOCKS/starbucks.csv'):\n",
    "    os.mkdir('./datasets/STOCKS')\n",
    "    urllib.request.urlretrieve(\n",
    "        \"https://query1.finance.yahoo.com/v7/finance/download/SBUX?period1=1576063151&period2=1607685551&interval=1d&events=history&includeAdjustedClose=true\",\n",
    "        './datasets/STOCKS/starbucks.csv')"
   ]
  },
  {
   "cell_type": "markdown",
   "metadata": {},
   "source": [
    "Load and evaluate data"
   ]
  },
  {
   "cell_type": "code",
   "execution_count": 3,
   "metadata": {},
   "outputs": [
    {
     "data": {
      "text/html": [
       "<div>\n",
       "<style scoped>\n",
       "    .dataframe tbody tr th:only-of-type {\n",
       "        vertical-align: middle;\n",
       "    }\n",
       "\n",
       "    .dataframe tbody tr th {\n",
       "        vertical-align: top;\n",
       "    }\n",
       "\n",
       "    .dataframe thead th {\n",
       "        text-align: right;\n",
       "    }\n",
       "</style>\n",
       "<table border=\"1\" class=\"dataframe\">\n",
       "  <thead>\n",
       "    <tr style=\"text-align: right;\">\n",
       "      <th></th>\n",
       "      <th>Open</th>\n",
       "      <th>High</th>\n",
       "      <th>Low</th>\n",
       "      <th>Close</th>\n",
       "      <th>Adj Close</th>\n",
       "      <th>Volume</th>\n",
       "    </tr>\n",
       "    <tr>\n",
       "      <th>Date</th>\n",
       "      <th></th>\n",
       "      <th></th>\n",
       "      <th></th>\n",
       "      <th></th>\n",
       "      <th></th>\n",
       "      <th></th>\n",
       "    </tr>\n",
       "  </thead>\n",
       "  <tbody>\n",
       "    <tr>\n",
       "      <th>2019-12-11</th>\n",
       "      <td>86.260002</td>\n",
       "      <td>86.870003</td>\n",
       "      <td>85.849998</td>\n",
       "      <td>86.589996</td>\n",
       "      <td>83.460548</td>\n",
       "      <td>4921900</td>\n",
       "    </tr>\n",
       "    <tr>\n",
       "      <th>2019-12-12</th>\n",
       "      <td>88.000000</td>\n",
       "      <td>88.889999</td>\n",
       "      <td>87.540001</td>\n",
       "      <td>88.209999</td>\n",
       "      <td>85.022011</td>\n",
       "      <td>10282100</td>\n",
       "    </tr>\n",
       "    <tr>\n",
       "      <th>2019-12-13</th>\n",
       "      <td>88.019997</td>\n",
       "      <td>88.790001</td>\n",
       "      <td>87.580002</td>\n",
       "      <td>88.669998</td>\n",
       "      <td>85.465378</td>\n",
       "      <td>6714100</td>\n",
       "    </tr>\n",
       "    <tr>\n",
       "      <th>2019-12-16</th>\n",
       "      <td>89.139999</td>\n",
       "      <td>89.300003</td>\n",
       "      <td>88.430000</td>\n",
       "      <td>88.779999</td>\n",
       "      <td>85.571404</td>\n",
       "      <td>6705600</td>\n",
       "    </tr>\n",
       "    <tr>\n",
       "      <th>2019-12-17</th>\n",
       "      <td>88.870003</td>\n",
       "      <td>88.970001</td>\n",
       "      <td>87.470001</td>\n",
       "      <td>88.129997</td>\n",
       "      <td>84.944901</td>\n",
       "      <td>7296900</td>\n",
       "    </tr>\n",
       "  </tbody>\n",
       "</table>\n",
       "</div>"
      ],
      "text/plain": [
       "                 Open       High        Low      Close  Adj Close    Volume\n",
       "Date                                                                       \n",
       "2019-12-11  86.260002  86.870003  85.849998  86.589996  83.460548   4921900\n",
       "2019-12-12  88.000000  88.889999  87.540001  88.209999  85.022011  10282100\n",
       "2019-12-13  88.019997  88.790001  87.580002  88.669998  85.465378   6714100\n",
       "2019-12-16  89.139999  89.300003  88.430000  88.779999  85.571404   6705600\n",
       "2019-12-17  88.870003  88.970001  87.470001  88.129997  84.944901   7296900"
      ]
     },
     "execution_count": 3,
     "metadata": {},
     "output_type": "execute_result"
    }
   ],
   "source": [
    "df = pd.read_csv('./datasets/STOCKS/starbucks.csv',\n",
    "                 index_col='Date', parse_dates=True)\n",
    "\n",
    "df.head(5)"
   ]
  },
  {
   "cell_type": "code",
   "execution_count": 4,
   "metadata": {},
   "outputs": [
    {
     "data": {
      "text/plain": [
       "<AxesSubplot:title={'center':'StarBucks Stock Volume'}, xlabel='Date'>"
      ]
     },
     "execution_count": 4,
     "metadata": {},
     "output_type": "execute_result"
    },
    {
     "data": {
      "image/png": "[encoded data removed]",
      "text/plain": [
       "<Figure size 432x288 with 1 Axes>"
      ]
     },
     "metadata": {
      "needs_background": "light"
     },
     "output_type": "display_data"
    }
   ],
   "source": [
    "df['Volume'].plot(label='CLOSE', title='StarBucks Stock Volume')"
   ]
  },
  {
   "cell_type": "markdown",
   "metadata": {},
   "source": [
    "Split data into inputs and labels"
   ]
  },
  {
   "cell_type": "code",
   "execution_count": 5,
   "metadata": {},
   "outputs": [],
   "source": [
    "X = df.iloc[:, :-1]\n",
    "y = df.iloc[:, 5:6]"
   ]
  },
  {
   "cell_type": "markdown",
   "metadata": {},
   "source": [
    "Scale data"
   ]
  },
  {
   "cell_type": "code",
   "execution_count": 6,
   "metadata": {},
   "outputs": [],
   "source": [
    "mm = MinMaxScaler()\n",
    "ss = StandardScaler()\n",
    "\n",
    "X_ss = ss.fit_transform(X)\n",
    "y_mm = mm.fit_transform(y)"
   ]
  },
  {
   "cell_type": "markdown",
   "metadata": {},
   "source": [
    "Train / Test data split"
   ]
  },
  {
   "cell_type": "code",
   "execution_count": 7,
   "metadata": {},
   "outputs": [
    {
     "name": "stdout",
     "output_type": "stream",
     "text": [
      "Training Shape (160, 5) (160, 1)\n",
      "Validation Shape (40, 5) (40, 1)\n",
      "Testing Shape (53, 5) (53, 1)\n"
     ]
    }
   ],
   "source": [
    "X_train = X_ss[:160, :]\n",
    "X_val = X_ss[160:200, :]\n",
    "X_test = X_ss[200:, :]\n",
    "\n",
    "y_train = y_mm[:160, :]\n",
    "y_val = y_mm[160:200,:]\n",
    "y_test = y_mm[200:, :]\n",
    "\n",
    "print(\"Training Shape\", X_train.shape, y_train.shape)\n",
    "print(\"Validation Shape\", X_val.shape, y_val.shape)\n",
    "print(\"Testing Shape\", X_test.shape, y_test.shape)\n"
   ]
  },
  {
   "cell_type": "markdown",
   "metadata": {},
   "source": [
    "Convert data to tensors"
   ]
  },
  {
   "cell_type": "code",
   "execution_count": 8,
   "metadata": {},
   "outputs": [],
   "source": [
    "X_train_tensors = Variable(torch.Tensor(X_train))\n",
    "X_val_tensors = Variable(torch.Tensor(X_val))\n",
    "X_test_tensors = Variable(torch.Tensor(X_test))\n",
    "\n",
    "y_train_tensors = Variable(torch.Tensor(y_train))\n",
    "y_val_tensors = Variable(torch.Tensor(y_val))\n",
    "y_test_tensors = Variable(torch.Tensor(y_test))\n"
   ]
  },
  {
   "cell_type": "markdown",
   "metadata": {},
   "source": [
    "Reshape data"
   ]
  },
  {
   "cell_type": "code",
   "execution_count": 9,
   "metadata": {},
   "outputs": [
    {
     "name": "stdout",
     "output_type": "stream",
     "text": [
      "Training Shape torch.Size([160, 1, 5]) torch.Size([160, 1])\n",
      "Validation Shape torch.Size([160, 1, 5]) torch.Size([160, 1])\n",
      "Testing Shape torch.Size([53, 1, 5]) torch.Size([53, 1])\n"
     ]
    }
   ],
   "source": [
    "X_train_tensors_final = torch.reshape(\n",
    "    X_train_tensors,   (X_train_tensors.shape[0], 1, X_train_tensors.shape[1]))\n",
    "\n",
    "X_val_tensors_final = torch.reshape(\n",
    "    X_val_tensors,   (X_val_tensors.shape[0], 1, X_val_tensors.shape[1]))\n",
    "\n",
    "X_test_tensors_final = torch.reshape(\n",
    "    X_test_tensors,  (X_test_tensors.shape[0], 1, X_test_tensors.shape[1]))\n",
    "\n",
    "print(\"Training Shape\", X_train_tensors_final.shape, y_train_tensors.shape)\n",
    "print(\"Validation Shape\", X_train_tensors_final.shape, y_train_tensors.shape)\n",
    "print(\"Testing Shape\", X_test_tensors_final.shape, y_test_tensors.shape)\n"
   ]
  },
  {
   "cell_type": "markdown",
   "metadata": {},
   "source": [
    "Define model"
   ]
  },
  {
   "cell_type": "code",
   "execution_count": 10,
   "metadata": {},
   "outputs": [],
   "source": [
    "class LSTM1(nn.Module):\n",
    "    def __init__(self, num_classes, input_size, hidden_size, num_layers, seq_length):\n",
    "        super(LSTM1, self).__init__()\n",
    "        self.num_classes = num_classes  # number of classes\n",
    "        self.num_layers = num_layers  # number of layers\n",
    "        self.input_size = input_size  # input size\n",
    "        self.hidden_size = hidden_size  # hidden state\n",
    "        self.seq_length = seq_length  # sequence length\n",
    "\n",
    "        self.lstm = nn.LSTM(input_size=input_size, hidden_size=hidden_size,\n",
    "                            num_layers=num_layers, batch_first=True)  # lstm\n",
    "        # fully connected last layer\n",
    "        self.fc = nn.Linear(hidden_size, num_classes)\n",
    "\n",
    "        self.relu = nn.ReLU()\n",
    "\n",
    "    def forward(self, x):\n",
    "        h_0 = Variable(torch.zeros(self.num_layers, x.size(0),\n",
    "                       self.hidden_size))  # hidden state\n",
    "        c_0 = Variable(torch.zeros(self.num_layers, x.size(0),\n",
    "                       self.hidden_size))  # internal state\n",
    "        # Propagate input through LSTM\n",
    "        # lstm with input, hidden, and internal state\n",
    "        output, (hn, cn) = self.lstm(x, (h_0, c_0))\n",
    "        # reshaping the data for Dense layer next\n",
    "        hn = hn.view(-1, self.hidden_size)\n",
    "        out = self.relu(hn)\n",
    "        out = self.fc(out)  # Final Output\n",
    "        return out\n"
   ]
  },
  {
   "cell_type": "markdown",
   "metadata": {},
   "source": [
    "Hyperparameters"
   ]
  },
  {
   "cell_type": "code",
   "execution_count": 11,
   "metadata": {},
   "outputs": [],
   "source": [
    "num_epochs = 3000  # 1000 epochs\n",
    "learning_rate = 0.001  # 0.001 lr\n",
    "\n",
    "input_size = 5  # number of features\n",
    "hidden_size = 32  # number of features in hidden state\n",
    "num_layers = 1  # number of stacked lstm layers\n",
    "\n",
    "num_classes = 1  # number of output classes"
   ]
  },
  {
   "cell_type": "code",
   "execution_count": 12,
   "metadata": {},
   "outputs": [],
   "source": [
    "lstm1 = LSTM1(num_classes, input_size, hidden_size, num_layers,\n",
    "              X_train_tensors_final.shape[1])  # our lstm class\n",
    "criterion = torch.nn.MSELoss()    # mean-squared error for regression\n",
    "optimizer = torch.optim.Adam(lstm1.parameters(), lr=learning_rate)"
   ]
  },
  {
   "cell_type": "markdown",
   "metadata": {},
   "source": [
    "Create a baseline tensor where predicted data equals data from previous day"
   ]
  },
  {
   "cell_type": "code",
   "execution_count": 13,
   "metadata": {},
   "outputs": [],
   "source": [
    "y_baseline_tensor = y_train_tensors.clone()\n",
    "y_baseline_tensor[1:] = y_train_tensors.clone()[:-1]"
   ]
  },
  {
   "cell_type": "markdown",
   "metadata": {},
   "source": [
    "Train model"
   ]
  },
  {
   "cell_type": "code",
   "execution_count": 14,
   "metadata": {},
   "outputs": [
    {
     "name": "stdout",
     "output_type": "stream",
     "text": [
      "Epoch: 0, loss: 0.21857\n",
      "Epoch: 0, val loss: 0.09621\n",
      "Epoch: 0, baseline loss: 0.01900\n",
      "=========\n",
      "Epoch: 100, loss: 0.02334\n",
      "Epoch: 100, val loss: 0.01614\n",
      "Epoch: 100, baseline loss: 0.01900\n",
      "=========\n",
      "Epoch: 200, loss: 0.02089\n",
      "Epoch: 200, val loss: 0.01423\n",
      "Epoch: 200, baseline loss: 0.01900\n",
      "=========\n",
      "Epoch: 300, loss: 0.01868\n",
      "Epoch: 300, val loss: 0.01586\n",
      "Epoch: 300, baseline loss: 0.01900\n",
      "=========\n",
      "Epoch: 400, loss: 0.01739\n",
      "Epoch: 400, val loss: 0.01724\n",
      "Epoch: 400, baseline loss: 0.01900\n",
      "=========\n",
      "Epoch: 500, loss: 0.01651\n",
      "Epoch: 500, val loss: 0.01751\n",
      "Epoch: 500, baseline loss: 0.01900\n",
      "=========\n",
      "Epoch: 600, loss: 0.01557\n",
      "Epoch: 600, val loss: 0.01702\n",
      "Epoch: 600, baseline loss: 0.01900\n",
      "=========\n",
      "Epoch: 700, loss: 0.01438\n",
      "Epoch: 700, val loss: 0.01575\n",
      "Epoch: 700, baseline loss: 0.01900\n",
      "=========\n",
      "Epoch: 800, loss: 0.01292\n",
      "Epoch: 800, val loss: 0.01351\n",
      "Epoch: 800, baseline loss: 0.01900\n",
      "=========\n",
      "Epoch: 900, loss: 0.01184\n",
      "Epoch: 900, val loss: 0.01151\n",
      "Epoch: 900, baseline loss: 0.01900\n",
      "=========\n",
      "Epoch: 1000, loss: 0.01151\n",
      "Epoch: 1000, val loss: 0.01117\n",
      "Epoch: 1000, baseline loss: 0.01900\n",
      "=========\n",
      "Epoch: 1100, loss: 0.01138\n",
      "Epoch: 1100, val loss: 0.01093\n",
      "Epoch: 1100, baseline loss: 0.01900\n",
      "=========\n",
      "Epoch: 1200, loss: 0.01128\n",
      "Epoch: 1200, val loss: 0.01073\n",
      "Epoch: 1200, baseline loss: 0.01900\n",
      "=========\n",
      "Epoch: 1300, loss: 0.01119\n",
      "Epoch: 1300, val loss: 0.01053\n",
      "Epoch: 1300, baseline loss: 0.01900\n",
      "=========\n",
      "Epoch: 1400, loss: 0.01111\n",
      "Epoch: 1400, val loss: 0.01039\n",
      "Epoch: 1400, baseline loss: 0.01900\n",
      "=========\n",
      "Epoch: 1500, loss: 0.01104\n",
      "Epoch: 1500, val loss: 0.01024\n",
      "Epoch: 1500, baseline loss: 0.01900\n",
      "=========\n",
      "Epoch: 1600, loss: 0.01096\n",
      "Epoch: 1600, val loss: 0.01008\n",
      "Epoch: 1600, baseline loss: 0.01900\n",
      "=========\n",
      "Epoch: 1700, loss: 0.01085\n",
      "Epoch: 1700, val loss: 0.00989\n",
      "Epoch: 1700, baseline loss: 0.01900\n",
      "=========\n",
      "Epoch: 1800, loss: 0.01077\n",
      "Epoch: 1800, val loss: 0.01001\n",
      "Epoch: 1800, baseline loss: 0.01900\n",
      "=========\n",
      "Epoch: 1900, loss: 0.01072\n",
      "Epoch: 1900, val loss: 0.00994\n",
      "Epoch: 1900, baseline loss: 0.01900\n",
      "=========\n",
      "Epoch: 2000, loss: 0.01066\n",
      "Epoch: 2000, val loss: 0.00988\n",
      "Epoch: 2000, baseline loss: 0.01900\n",
      "=========\n",
      "Epoch: 2100, loss: 0.01058\n",
      "Epoch: 2100, val loss: 0.01004\n",
      "Epoch: 2100, baseline loss: 0.01900\n",
      "=========\n",
      "Epoch: 2200, loss: 0.01051\n",
      "Epoch: 2200, val loss: 0.00997\n",
      "Epoch: 2200, baseline loss: 0.01900\n",
      "=========\n",
      "Epoch: 2300, loss: 0.01045\n",
      "Epoch: 2300, val loss: 0.00989\n",
      "Epoch: 2300, baseline loss: 0.01900\n",
      "=========\n",
      "Epoch: 2400, loss: 0.01036\n",
      "Epoch: 2400, val loss: 0.00990\n",
      "Epoch: 2400, baseline loss: 0.01900\n",
      "=========\n",
      "Epoch: 2500, loss: 0.01026\n",
      "Epoch: 2500, val loss: 0.00991\n",
      "Epoch: 2500, baseline loss: 0.01900\n",
      "=========\n",
      "Epoch: 2600, loss: 0.01013\n",
      "Epoch: 2600, val loss: 0.00991\n",
      "Epoch: 2600, baseline loss: 0.01900\n",
      "=========\n",
      "Epoch: 2700, loss: 0.00998\n",
      "Epoch: 2700, val loss: 0.00994\n",
      "Epoch: 2700, baseline loss: 0.01900\n",
      "=========\n",
      "Epoch: 2800, loss: 0.00984\n",
      "Epoch: 2800, val loss: 0.00982\n",
      "Epoch: 2800, baseline loss: 0.01900\n",
      "=========\n",
      "Epoch: 2900, loss: 0.00969\n",
      "Epoch: 2900, val loss: 0.00979\n",
      "Epoch: 2900, baseline loss: 0.01900\n",
      "=========\n"
     ]
    }
   ],
   "source": [
    "for epoch in range(num_epochs):\n",
    "  outputs = lstm1.forward(X_train_tensors_final)  # forward pass\n",
    "  optimizer.zero_grad()  # caluclate the gradient, manually setting to 0\n",
    "\n",
    "  # obtain the loss function\n",
    "  loss = criterion(outputs, y_train_tensors)\n",
    "  \n",
    "  loss.backward()  # calculates the loss of the loss function\n",
    "\n",
    "  optimizer.step()  # improve from loss, i.e backprop\n",
    "\n",
    "\n",
    "  if epoch % 100 == 0:\n",
    "    print(f\"Epoch: {epoch:#d}, loss: {loss.item():#1.5f}\")\n",
    "\n",
    "    with torch.no_grad():\n",
    "      val_output = lstm1.forward(X_val_tensors_final)\n",
    "      val_loss = criterion(val_output, y_val_tensors)\n",
    "      print(f\"Epoch: {epoch}, val loss: {val_loss.item():#1.5f}\")\n",
    "\n",
    "    baseline_loss = criterion(y_baseline_tensor, y_train_tensors)\n",
    "    print(f\"Epoch: {epoch:#d}, baseline loss: {baseline_loss.item():#1.5f}\")\n",
    "    print(\"=========\")\n"
   ]
  },
  {
   "cell_type": "markdown",
   "metadata": {},
   "source": [
    "Checking on predictions on test data"
   ]
  },
  {
   "cell_type": "code",
   "execution_count": 15,
   "metadata": {},
   "outputs": [
    {
     "data": {
      "image/png": "[encoded data removed]",
      "text/plain": [
       "<Figure size 720x432 with 1 Axes>"
      ]
     },
     "metadata": {
      "needs_background": "light"
     },
     "output_type": "display_data"
    }
   ],
   "source": [
    "train_predict = lstm1(X_test_tensors_final)  # forward pass\n",
    "data_predict = train_predict.data.numpy()  # numpy conversion\n",
    "dataY_plot = y_test_tensors.data.numpy()\n",
    "\n",
    "data_predict = mm.inverse_transform(data_predict)  # reverse transformation\n",
    "dataY_plot = mm.inverse_transform(dataY_plot)\n",
    "\n",
    "plt.figure(figsize=(10, 6))  # plotting\n",
    "plt.axvline(x=53, c='r', linestyle='--')  # size of the training set\n",
    "\n",
    "plt.plot(dataY_plot, label='Actuall Data')  # actual plot\n",
    "plt.plot(data_predict, label='Predicted Data')  # predicted plot\n",
    "plt.title('Time-Series Prediction')\n",
    "plt.legend()\n",
    "plt.show()\n"
   ]
  }
 ],
 "metadata": {
  "interpreter": {
   "hash": "7cb0abe6a156ed333ad4fd07d9af989e8f53906384bd66e80c5bbb553a4eaba7"
  },
  "kernelspec": {
   "display_name": "Python 3.8.12 64-bit ('torch': conda)",
   "language": "python",
   "name": "python3"
  },
  "language_info": {
   "codemirror_mode": {
    "name": "ipython",
    "version": 3
   },
   "file_extension": ".py",
   "mimetype": "text/x-python",
   "name": "python",
   "nbconvert_exporter": "python",
   "pygments_lexer": "ipython3",
   "version": "3.8.12"
  },
  "orig_nbformat": 4
 },
 "nbformat": 4,
 "nbformat_minor": 2
}
