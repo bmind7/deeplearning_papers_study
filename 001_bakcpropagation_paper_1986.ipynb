{
 "cells": [
  {
   "cell_type": "markdown",
   "metadata": {},
   "source": [
    "Implementation of [Learning representations by back-propagating erros](http://www.cs.toronto.edu/~hinton/absps/naturebp.pdf) 1986 paper from scratch.  \n",
    "\n",
    "MNIST dataset is used for this example.\n",
    "* No optimizations or data oriented aproach was used. \n",
    "* No SGD momentum was used\n",
    "* Baises were used, there are no mentions of them in original paper"
   ]
  },
  {
   "cell_type": "code",
   "execution_count": 21,
   "metadata": {},
   "outputs": [],
   "source": [
    "import random\n",
    "import math\n",
    "import numpy as np\n",
    "import torch\n",
    "from torchvision import datasets, transforms\n"
   ]
  },
  {
   "cell_type": "markdown",
   "metadata": {},
   "source": [
    "PyTorch is used only to simplify data loading"
   ]
  },
  {
   "cell_type": "code",
   "execution_count": 43,
   "metadata": {},
   "outputs": [],
   "source": [
    "trainset = datasets.MNIST('./datasets/', download=True, train=True, transform=transforms.ToTensor())\n",
    "valset = datasets.MNIST('./datasets', download=True, train=False, transform=transforms.ToTensor())\n",
    "trainloader = torch.utils.data.DataLoader(trainset, batch_size=1, shuffle=True)\n",
    "valloader = torch.utils.data.DataLoader(valset, batch_size=1, shuffle=True)"
   ]
  },
  {
   "cell_type": "markdown",
   "metadata": {},
   "source": [
    "Create `Neuron` class"
   ]
  },
  {
   "cell_type": "code",
   "execution_count": 94,
   "metadata": {},
   "outputs": [],
   "source": [
    "class Neuron:\n",
    "    def __init__(self, previous_layer):\n",
    "        self.previous_layer = previous_layer\n",
    "\n",
    "        if self.previous_layer is None:\n",
    "            return\n",
    "\n",
    "        # for the training to be effective at beginning initialize all parameters randomly\n",
    "        self.weights = [random.uniform(-1.,1.) for _ in range(len(self.previous_layer))]\n",
    "        self.bias = random.uniform(-1.,1.)\n",
    "\n",
    "    def calculate_output(self):\n",
    "        # dot porduct \n",
    "        self.output = sum([self.weights[i]*self.previous_layer[i].output for i in range(len(self.weights))])\n",
    "        self.output += self.bias\n",
    "\n",
    "        # Sigmoid activation function\n",
    "        self.output = 1. / (1. + math.exp(-self.output))"
   ]
  },
  {
   "cell_type": "markdown",
   "metadata": {},
   "source": [
    "Create `NeuralNetwork` class"
   ]
  },
  {
   "cell_type": "code",
   "execution_count": 117,
   "metadata": {},
   "outputs": [],
   "source": [
    "class NeuralNetowork:\n",
    "    def __init__(self):\n",
    "        self.layers = []\n",
    "        self.learning_rate = 0.01\n",
    "\n",
    "    def add_layer(self, neuron_amount):\n",
    "        prevous_layer = self.layers[-1] if len(self.layers) > 0 else None\n",
    "        new_layer = [Neuron(prevous_layer) for _ in range(neuron_amount)]\n",
    "        self.layers.append(new_layer)\n",
    "\n",
    "    def predict(self, input_values):\n",
    "        input_layer = self.layers[0]\n",
    "        for i in range(len(input_values)):\n",
    "            input_layer[i].output = input_values[i]\n",
    "\n",
    "        for layer in self.layers[1:]:\n",
    "            for neuron in layer:\n",
    "                neuron.calculate_output()\n",
    "\n",
    "        # last layer contains result of our prediction\n",
    "        return list(map(lambda x: x.output, self.layers[-1]))\n",
    "\n",
    "    def back_propagation(self, d, y):\n",
    "        for layer_idx in reversed(range(1, len(self.layers))):\n",
    "            current_layer = self.layers[layer_idx]\n",
    "            previous_layer = self.layers[layer_idx-1]\n",
    "\n",
    "            accum_y = [0.] * len(previous_layer)\n",
    "            \n",
    "            # update current layer\n",
    "            for j in range(len(current_layer)):\n",
    "                weights = current_layer[j].weights\n",
    "                dEdx = y[j] * (1-y[j]) * (y[j]-d[j])\n",
    "                for i in range(len(weights)):\n",
    "                    accum_y[i] += weights[i] * dEdx\n",
    "                    delta_w = previous_layer[i].output * dEdx\n",
    "                    weights[i] -= self.learning_rate * delta_w\n",
    "\n",
    "                current_layer[j].bias -= self.learning_rate * dEdx\n",
    "\n",
    "            # Update expected values for next layer backpropagation\n",
    "            y = [None] * len(previous_layer)\n",
    "            d = [None] * len(previous_layer)\n",
    "            for j in range(len(previous_layer)):\n",
    "                y[j] = previous_layer[j].output\n",
    "                d[j] = previous_layer[j].output - accum_y[j]"
   ]
  },
  {
   "cell_type": "code",
   "execution_count": null,
   "metadata": {},
   "outputs": [],
   "source": [
    "def calculate_error(network):\n",
    "    accum_error = 0.\n",
    "    accurate_count, total_count = 0, 0\n",
    "    output_size = 10\n",
    "    for images, labels in valloader:\n",
    "        input_values = images.flatten().tolist()\n",
    "        correct_label = labels.flatten().tolist()[0]\n",
    "        val_labels = [0]*output_size\n",
    "        val_labels[correct_label] = 1\n",
    "\n",
    "        preds = network.predict(input_values)\n",
    "        for i in range(len(preds)):\n",
    "            accum_error += math.pow(preds[i] - val_labels[i], 2)\n",
    "\n",
    "        total_count += 1\n",
    "        if correct_label == preds.index(max(preds)):\n",
    "            accurate_count += 1\n",
    "        \n",
    "    accum_error /= total_count * output_size\n",
    "\n",
    "    print(f\"[MSE]: {accum_error}\")\n",
    "    print(f\"[Accuracy]: {accurate_count/total_count}\")"
   ]
  },
  {
   "cell_type": "markdown",
   "metadata": {},
   "source": [
    "Initialize network"
   ]
  },
  {
   "cell_type": "code",
   "execution_count": 118,
   "metadata": {},
   "outputs": [],
   "source": [
    "net = NeuralNetowork()\n",
    "net.add_layer(784)\n",
    "net.add_layer(16)\n",
    "net.add_layer(16)\n",
    "net.add_layer(10)"
   ]
  },
  {
   "cell_type": "markdown",
   "metadata": {},
   "source": [
    "Test network on one sample input"
   ]
  },
  {
   "cell_type": "code",
   "execution_count": 114,
   "metadata": {},
   "outputs": [
    {
     "data": {
      "text/plain": [
       "[0.37481259197173833,\n",
       " 0.4187727752001508,\n",
       " 0.6067622543298206,\n",
       " 0.4176515988860953,\n",
       " 0.422300716194616,\n",
       " 0.7126225169797678,\n",
       " 0.28532597080705097,\n",
       " 0.8880377357832795,\n",
       " 0.2568677440463119,\n",
       " 0.13013270352901635]"
      ]
     },
     "execution_count": 114,
     "metadata": {},
     "output_type": "execute_result"
    }
   ],
   "source": [
    "dataiter = iter(trainloader)\n",
    "images, labels = dataiter.next()\n",
    "\n",
    "input_values = images.flatten().tolist()\n",
    "\n",
    "net.predict(input_values)"
   ]
  },
  {
   "cell_type": "markdown",
   "metadata": {},
   "source": [
    "Test error of freshly initialized network"
   ]
  },
  {
   "cell_type": "code",
   "execution_count": 115,
   "metadata": {},
   "outputs": [
    {
     "name": "stdout",
     "output_type": "stream",
     "text": [
      "[MSE]: 0.24968736484429296\n",
      "[Accuracy]: 0.1028\n"
     ]
    }
   ],
   "source": [
    "calculate_error(net)"
   ]
  },
  {
   "cell_type": "markdown",
   "metadata": {},
   "source": [
    "Training routine"
   ]
  },
  {
   "cell_type": "code",
   "execution_count": 119,
   "metadata": {},
   "outputs": [
    {
     "name": "stdout",
     "output_type": "stream",
     "text": [
      "[Epoch]: 0\n",
      "[MSE]: 0.05236983214175698\n",
      "[Accuracy]: 0.6567\n",
      "[Epoch]: 1\n",
      "[MSE]: 0.036356696459431244\n",
      "[Accuracy]: 0.7855\n",
      "[Epoch]: 2\n",
      "[MSE]: 0.025544010296224225\n",
      "[Accuracy]: 0.8506\n"
     ]
    }
   ],
   "source": [
    "epochs = 3\n",
    "output_size = 10\n",
    "\n",
    "for e in range(epochs):\n",
    "    print(f\"[Epoch]: {e}\")\n",
    "\n",
    "    for images, labels in trainloader:\n",
    "        input_values = images.flatten().tolist()\n",
    "        correct_label = labels.flatten().tolist()[0]\n",
    "        train_labels = [0.]*output_size\n",
    "        train_labels[correct_label] = 1.\n",
    "\n",
    "        preds = net.predict(input_values)\n",
    "\n",
    "        net.back_propagation(train_labels, preds)\n",
    "\n",
    "    calculate_error(net)\n"
   ]
  }
 ],
 "metadata": {
  "interpreter": {
   "hash": "7cb0abe6a156ed333ad4fd07d9af989e8f53906384bd66e80c5bbb553a4eaba7"
  },
  "kernelspec": {
   "display_name": "Python 3.8.12 64-bit ('torch': conda)",
   "language": "python",
   "name": "python3"
  },
  "language_info": {
   "codemirror_mode": {
    "name": "ipython",
    "version": 3
   },
   "file_extension": ".py",
   "mimetype": "text/x-python",
   "name": "python",
   "nbconvert_exporter": "python",
   "pygments_lexer": "ipython3",
   "version": "3.8.12"
  },
  "orig_nbformat": 4
 },
 "nbformat": 4,
 "nbformat_minor": 2
}
